{
  "cells": [
    {
      "cell_type": "markdown",
      "metadata": {
        "id": "view-in-github",
        "colab_type": "text"
      },
      "source": [
        "<a href=\"https://colab.research.google.com/github/kartikmane45/physics_wallah_skills_assignments/blob/main/files_%26_exceptional_handling.ipynb\" target=\"_parent\"><img src=\"https://colab.research.google.com/assets/colab-badge.svg\" alt=\"Open In Colab\"/></a>"
      ]
    },
    {
      "cell_type": "markdown",
      "source": [
        "Q.1: Discuss the scenarios where multithreading is preferable to multiprocessing and scenarios where multiprocessing is a better choice.\n",
        "\n",
        "Ans: Scenarios where Multithreading is Preferable:\n",
        "\n",
        "I/O-bound tasks: When a program is waiting for I/O operations (like reading from disk or network calls), multithreading can help utilize CPU resources by allowing other threads to run while one thread is blocked.\n",
        "Low overhead: Threads share the same memory space, making context switching faster and lighter compared to processes.\n",
        "Shared memory access: If the threads need to share data frequently, multithreading can be more efficient due to shared memory.\n",
        "Scenarios where Multiprocessing is a Better Choice:\n",
        "\n",
        "CPU-bound tasks: For tasks that require intensive computation, multiprocessing can utilize multiple CPU cores, improving performance.\n",
        "Isolation: Each process has its own memory space, which makes them less prone to certain types of bugs (like race conditions).\n",
        "Avoiding GIL: In Python, the Global Interpreter Lock (GIL) can be a bottleneck for CPU-bound tasks in multithreading; multiprocessing can sidestep this issue."
      ],
      "metadata": {
        "id": "WRwyy-Uevk0Z"
      }
    },
    {
      "cell_type": "markdown",
      "source": [
        "Q.2: Describe what a process pool is and how it helps in managing multiple processes efficiently.\n",
        "\n",
        "Ans: A process pool is a collection of worker processes that can be used to execute tasks concurrently. It helps in managing multiple processes efficiently by:\n",
        "\n",
        "Reusing processes: Instead of creating a new process for every task, a pool of pre-initialized processes can be reused, reducing overhead.\n",
        "Limiting resource usage: By controlling the number of concurrent processes, it helps manage system resources more effectively and prevents system overload.\n",
        "Load balancing: Distributing tasks evenly among available processes optimizes CPU usage and reduces idle time."
      ],
      "metadata": {
        "id": "px37K-J4xBOv"
      }
    },
    {
      "cell_type": "markdown",
      "source": [
        "Q.3: Explain what multiprocessing is and why it is used in Python programs.\n",
        "\n",
        "Ans: Multiprocessing is a parallel execution method that allows a program to run multiple processes simultaneously. In Python, it’s used to:\n",
        "\n",
        "Bypass the GIL: It enables the execution of CPU-bound tasks in parallel without being hindered by the Global Interpreter Lock.\n",
        "Utilize multiple cores: It allows full utilization of multiple CPU cores, enhancing performance for compute-intensive tasks.\n",
        "Isolation of tasks: Each process has its own memory space, reducing the risk of data corruption and making debugging easier."
      ],
      "metadata": {
        "id": "LfKPUcaZxNmb"
      }
    },
    {
      "cell_type": "markdown",
      "source": [
        "Q.4: Write a Python program using multithreading where one thread adds numbers to a list, and another thread removes numbers from the list. Implement a mechanism to avoid race conditions using threading.Lock.\n",
        "\n",
        "Ans: Here’s a Python program that demonstrates multithreading, where one thread adds numbers to a list and another removes them, using threading.Lock to avoid race conditions:"
      ],
      "metadata": {
        "id": "h6-uBd9cxPBD"
      }
    },
    {
      "cell_type": "code",
      "source": [
        "import threading\n",
        "import time\n",
        "\n",
        "# Shared list and lock\n",
        "shared_list = []\n",
        "lock = threading.Lock()\n",
        "\n",
        "def add_numbers():\n",
        "    for i in range(10):\n",
        "        with lock:  # Acquire the lock before modifying the shared list\n",
        "            shared_list.append(i)\n",
        "            print(f'Added {i} to list: {shared_list}')\n",
        "        time.sleep(0.1)  # Simulate some delay\n",
        "\n",
        "def remove_numbers():\n",
        "    for _ in range(10):\n",
        "        time.sleep(0.2)  # Wait a bit before trying to remove\n",
        "        with lock:  # Acquire the lock before modifying the shared list\n",
        "            if shared_list:\n",
        "                removed = shared_list.pop(0)\n",
        "                print(f'Removed {removed} from list: {shared_list}')\n",
        "\n",
        "# Create threads\n",
        "thread1 = threading.Thread(target=add_numbers)\n",
        "thread2 = threading.Thread(target=remove_numbers)\n",
        "\n",
        "# Start threads\n",
        "thread1.start()\n",
        "thread2.start()\n",
        "\n",
        "# Wait for both threads to complete\n",
        "thread1.join()\n",
        "thread2.join()\n"
      ],
      "metadata": {
        "colab": {
          "base_uri": "https://localhost:8080/"
        },
        "id": "s8NyAQkN2Twt",
        "outputId": "ba9b9b3a-770d-4052-e19a-0476e2f01ce9"
      },
      "execution_count": null,
      "outputs": [
        {
          "output_type": "stream",
          "name": "stdout",
          "text": [
            "Added 0 to list: [0]\n",
            "Added 1 to list: [0, 1]\n",
            "Added 2 to list: [0, 1, 2]\n",
            "Removed 0 from list: [1, 2]\n",
            "Added 3 to list: [1, 2, 3]\n",
            "Added 4 to list: [1, 2, 3, 4]\n",
            "Removed 1 from list: [2, 3, 4]\n",
            "Added 5 to list: [2, 3, 4, 5]\n",
            "Added 6 to list: [2, 3, 4, 5, 6]\n",
            "Removed 2 from list: [3, 4, 5, 6]\n",
            "Added 7 to list: [3, 4, 5, 6, 7]\n",
            "Added 8 to list: [3, 4, 5, 6, 7, 8]\n",
            "Removed 3 from list: [4, 5, 6, 7, 8]\n",
            "Added 9 to list: [4, 5, 6, 7, 8, 9]\n",
            "Removed 4 from list: [5, 6, 7, 8, 9]\n",
            "Removed 5 from list: [6, 7, 8, 9]\n",
            "Removed 6 from list: [7, 8, 9]\n",
            "Removed 7 from list: [8, 9]\n",
            "Removed 8 from list: [9]\n",
            "Removed 9 from list: []\n"
          ]
        }
      ]
    },
    {
      "cell_type": "markdown",
      "source": [
        "Q.5: Describe the methods and tools available in Python for safely sharing data between threads and processes.\n",
        "\n",
        "Ans: Methods and Tools for Safe Data Sharing:\n",
        "\n",
        "Threading:\n",
        "\n",
        "threading.Lock: A lock object that prevents multiple threads from accessing shared resources simultaneously.\n",
        "queue.Queue: A thread-safe queue that allows safe data exchange between threads.\n",
        "Multiprocessing:\n",
        "\n",
        "multiprocessing.Queue: A process-safe queue for sharing data between processes.\n",
        "multiprocessing.Value and multiprocessing.Array: These allow sharing of simple data types and arrays between processes.\n"
      ],
      "metadata": {
        "id": "NI6DrxFexV_m"
      }
    },
    {
      "cell_type": "markdown",
      "source": [
        "Q.6: Discuss why it’s crucial to handle exceptions in concurrent programs and the techniques available for doing so.\n",
        "\n",
        "Ans: Handling exceptions in concurrent programs is crucial because:\n",
        "\n",
        "Uncaught exceptions can crash the entire program: In a multithreaded or multiprocessed environment, an unhandled exception in one thread/process can terminate other threads/processes or lead to inconsistent states.\n",
        "Debugging complexity: Errors may occur in a non-deterministic manner, making them harder to trace.\n",
        "Techniques for Handling Exceptions:\n",
        "\n",
        "Try-except blocks: Use these within threads/processes to catch exceptions locally.\n",
        "Thread.join() with exception checks: For threads, you can check the state of threads after they complete to handle any exceptions raised.\n",
        "Custom error handling strategies: In multiprocessing, you can pass exceptions back to the main process using multiprocessing.Queue.\n"
      ],
      "metadata": {
        "id": "U31jpAVzxghu"
      }
    },
    {
      "cell_type": "markdown",
      "source": [
        "Q.7: Create a program that uses a thread pool to calculate the factorial of numbers from 1 to 10 concurrently. Use concurrent.futures.ThreadPoolExecutor to manage the threads.\n",
        "\n",
        "Ans: Here’s a program that uses ThreadPoolExecutor to calculate the factorial of numbers from 1 to 10 concurrently:\n",
        "\n",
        "python"
      ],
      "metadata": {
        "id": "NRlEw84Zxjj8"
      }
    },
    {
      "cell_type": "code",
      "source": [
        "from concurrent.futures import ThreadPoolExecutor\n",
        "import math\n",
        "\n",
        "def calculate_factorial(n):\n",
        "    return math.factorial(n)\n",
        "\n",
        "# Using ThreadPoolExecutor to manage threads\n",
        "with ThreadPoolExecutor() as executor:\n",
        "    results = list(executor.map(calculate_factorial, range(1, 11)))\n",
        "\n",
        "print(\"Factorials from 1 to 10:\")\n",
        "for num, fact in zip(range(1, 11), results):\n",
        "    print(f\"{num}! = {fact}\")\n"
      ],
      "metadata": {
        "id": "tcrc92oTxb2C",
        "outputId": "042a30a4-fed7-49f9-c747-3cc7b64bfae3",
        "colab": {
          "base_uri": "https://localhost:8080/"
        }
      },
      "execution_count": null,
      "outputs": [
        {
          "output_type": "stream",
          "name": "stdout",
          "text": [
            "Factorials from 1 to 10:\n",
            "1! = 1\n",
            "2! = 2\n",
            "3! = 6\n",
            "4! = 24\n",
            "5! = 120\n",
            "6! = 720\n",
            "7! = 5040\n",
            "8! = 40320\n",
            "9! = 362880\n",
            "10! = 3628800\n"
          ]
        }
      ]
    },
    {
      "cell_type": "markdown",
      "source": [
        "Q.8: Create a Python program that uses multiprocessing.Pool to compute the square of numbers from 1 to 10 in parallel. Measure the time taken to perform this computation using a pool of different sizes (e.g., 2, 4, 8 processes).\n",
        "\n",
        "Ans: Here's a program that computes the square of numbers from 1 to 10 in parallel and measures the execution time:"
      ],
      "metadata": {
        "id": "q6JDTOp4xnrv"
      }
    },
    {
      "cell_type": "code",
      "source": [
        "import multiprocessing\n",
        "import time\n",
        "\n",
        "def square(n):\n",
        "    return n * n\n",
        "\n",
        "if __name__ == '__main__':\n",
        "    sizes = [2, 4, 8]\n",
        "    numbers = list(range(1, 11))\n",
        "\n",
        "    for size in sizes:\n",
        "        start_time = time.time()\n",
        "        with multiprocessing.Pool(processes=size) as pool:\n",
        "            results = pool.map(square, numbers)\n",
        "        end_time = time.time()\n",
        "\n",
        "        print(f\"Results with {size} processes: {results}\")\n",
        "        print(f\"Time taken with {size} processes: {end_time - start_time:.4f} seconds\")\n"
      ],
      "metadata": {
        "id": "KmTDGNMjxq1z",
        "outputId": "a31dec27-1b6a-464b-9043-0a30f59fbc24",
        "colab": {
          "base_uri": "https://localhost:8080/"
        }
      },
      "execution_count": null,
      "outputs": [
        {
          "output_type": "stream",
          "name": "stdout",
          "text": [
            "Results with 2 processes: [1, 4, 9, 16, 25, 36, 49, 64, 81, 100]\n",
            "Time taken with 2 processes: 0.0327 seconds\n",
            "Results with 4 processes: [1, 4, 9, 16, 25, 36, 49, 64, 81, 100]\n",
            "Time taken with 4 processes: 0.0503 seconds\n",
            "Results with 8 processes: [1, 4, 9, 16, 25, 36, 49, 64, 81, 100]\n",
            "Time taken with 8 processes: 0.0810 seconds\n"
          ]
        }
      ]
    }
  ],
  "metadata": {
    "colab": {
      "provenance": [],
      "include_colab_link": true
    },
    "kernelspec": {
      "display_name": "Python 3",
      "name": "python3"
    }
  },
  "nbformat": 4,
  "nbformat_minor": 0
}