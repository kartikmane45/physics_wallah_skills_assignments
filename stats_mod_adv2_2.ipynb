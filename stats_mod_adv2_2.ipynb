{
  "nbformat": 4,
  "nbformat_minor": 0,
  "metadata": {
    "colab": {
      "provenance": [],
      "authorship_tag": "ABX9TyPpdqA4vrBF4gBO/GI1+0wV",
      "include_colab_link": true
    },
    "kernelspec": {
      "name": "python3",
      "display_name": "Python 3"
    },
    "language_info": {
      "name": "python"
    }
  },
  "cells": [
    {
      "cell_type": "markdown",
      "metadata": {
        "id": "view-in-github",
        "colab_type": "text"
      },
      "source": [
        "<a href=\"https://colab.research.google.com/github/kartikmane45/physics_wallah_skills_assignments/blob/main/stats_mod_adv2_2.ipynb\" target=\"_parent\"><img src=\"https://colab.research.google.com/assets/colab-badge.svg\" alt=\"Open In Colab\"/></a>"
      ]
    },
    {
      "cell_type": "markdown",
      "source": [
        " **Write a Python program to perform a Z-test for comparing a sample mean to a known population mean and\n",
        "interpret the results**"
      ],
      "metadata": {
        "id": "Z51rNPAC9g0C"
      }
    },
    {
      "cell_type": "code",
      "source": [
        "import numpy as np\n",
        "from scipy.stats import norm\n",
        "\n",
        "def z_test(sample, population_mean, population_std, alpha=0.05):\n",
        "    n = len(sample)\n",
        "    sample_mean = np.mean(sample)\n",
        "    se = population_std / np.sqrt(n)  # Standard error\n",
        "\n",
        "    z_score = (sample_mean - population_mean) / se\n",
        "    p_value = 2 * (1 - norm.cdf(abs(z_score)))  # Two-tailed test\n",
        "\n",
        "    print(f\"Sample Mean: {sample_mean}\")\n",
        "    print(f\"Z-score: {z_score}\")\n",
        "    print(f\"P-value: {p_value}\")\n",
        "\n",
        "    if p_value < alpha:\n",
        "        print(\"Result: Reject the null hypothesis (significant difference)\")\n",
        "    else:\n",
        "        print(\"Result: Fail to reject the null hypothesis (no significant difference)\")\n",
        "\n",
        "# Example usage\n",
        "sample_data = [52, 48, 50, 47, 53, 49, 51, 50, 48, 52]\n",
        "population_mean = 50\n",
        "population_std = 3  # Known population standard deviation\n",
        "\n",
        "z_test(sample_data, population_mean, population_std)\n"
      ],
      "metadata": {
        "id": "ALZZQvuE9i65"
      },
      "execution_count": null,
      "outputs": []
    },
    {
      "cell_type": "markdown",
      "source": [
        "**Simulate random data to perform hypothesis testing and calculate the corresponding P-value using Python**"
      ],
      "metadata": {
        "id": "nAw0li5C9uTK"
      }
    },
    {
      "cell_type": "code",
      "source": [
        "import numpy as np\n",
        "from scipy.stats import norm\n",
        "\n",
        "np.random.seed(42)\n",
        "sample = np.random.normal(loc=50, scale=5, size=30)\n",
        "population_mean = 50\n",
        "population_std = 5\n",
        "\n",
        "z_score = (np.mean(sample) - population_mean) / (population_std / np.sqrt(len(sample)))\n",
        "p_value = 2 * (1 - norm.cdf(abs(z_score)))\n",
        "\n",
        "print(f\"Z-score: {z_score:.4f}, P-value: {p_value:.4f}\")\n"
      ],
      "metadata": {
        "id": "MmtovjoU-EVC"
      },
      "execution_count": null,
      "outputs": []
    },
    {
      "cell_type": "markdown",
      "source": [
        "** Implement a one-sample Z-test using Python to compare the sample mean with the population mean**"
      ],
      "metadata": {
        "id": "7HzP2lMG-G_R"
      }
    },
    {
      "cell_type": "code",
      "source": [
        "from scipy.stats import norm\n",
        "\n",
        "def one_sample_z_test(sample, population_mean, population_std):\n",
        "    sample_mean = np.mean(sample)\n",
        "    se = population_std / np.sqrt(len(sample))\n",
        "    z_score = (sample_mean - population_mean) / se\n",
        "    p_value = 2 * (1 - norm.cdf(abs(z_score)))\n",
        "\n",
        "    return z_score, p_value\n",
        "\n",
        "# Example Usage\n",
        "sample_data = np.random.normal(50, 5, 30)\n",
        "z, p = one_sample_z_test(sample_data, 50, 5)\n",
        "print(f\"Z-score: {z:.4f}, P-value: {p:.4f}\")\n"
      ],
      "metadata": {
        "id": "s6WYCKK9-L0M"
      },
      "execution_count": null,
      "outputs": []
    },
    {
      "cell_type": "markdown",
      "source": [
        "**Perform a two-tailed Z-test using Python and visualize the decision region on a plot**"
      ],
      "metadata": {
        "id": "TTz8PM6M-Q3a"
      }
    },
    {
      "cell_type": "code",
      "source": [
        "import matplotlib.pyplot as plt\n",
        "import numpy as np\n",
        "from scipy.stats import norm\n",
        "\n",
        "alpha = 0.05\n",
        "critical_value = norm.ppf(1 - alpha/2)\n",
        "\n",
        "x = np.linspace(-4, 4, 1000)\n",
        "y = norm.pdf(x)\n",
        "\n",
        "plt.figure(figsize=(8,5))\n",
        "plt.plot(x, y, label=\"Normal Distribution\")\n",
        "plt.fill_between(x, y, where=(x < -critical_value) | (x > critical_value), color='red', alpha=0.3, label=\"Rejection Region\")\n",
        "plt.axvline(-critical_value, color='black', linestyle='dashed')\n",
        "plt.axvline(critical_value, color='black', linestyle='dashed')\n",
        "plt.title(\"Two-Tailed Z-test Decision Region\")\n",
        "plt.legend()\n",
        "plt.show()\n"
      ],
      "metadata": {
        "id": "LwLk2RA7-WvS"
      },
      "execution_count": null,
      "outputs": []
    },
    {
      "cell_type": "markdown",
      "source": [
        "**Create a Python function that calculates and visualizes Type 1 and Type 2 errors during hypothesis testing**"
      ],
      "metadata": {
        "id": "wOdGV9UR-nrb"
      }
    },
    {
      "cell_type": "code",
      "source": [
        "def plot_type1_type2(alpha=0.05, beta=0.2):\n",
        "    x = np.linspace(-4, 4, 1000)\n",
        "    null_dist = norm.pdf(x, 0, 1)\n",
        "    alt_dist = norm.pdf(x, 2, 1)  # Shifted mean for alternative hypothesis\n",
        "\n",
        "    plt.figure(figsize=(8,5))\n",
        "    plt.plot(x, null_dist, label=\"Null Distribution\", color=\"blue\")\n",
        "    plt.plot(x, alt_dist, label=\"Alternative Distribution\", color=\"orange\")\n",
        "    plt.fill_between(x, null_dist, where=(x > norm.ppf(1 - alpha)), color='red', alpha=0.3, label=\"Type 1 Error (α)\")\n",
        "    plt.fill_between(x, alt_dist, where=(x < norm.ppf(1 - beta)), color='green', alpha=0.3, label=\"Type 2 Error (β)\")\n",
        "\n",
        "    plt.axvline(norm.ppf(1 - alpha), color='black', linestyle='dashed')\n",
        "    plt.legend()\n",
        "    plt.title(\"Type 1 and Type 2 Errors\")\n",
        "    plt.show()\n",
        "\n",
        "plot_type1_type2()\n"
      ],
      "metadata": {
        "id": "cyYIQCRz-sOq"
      },
      "execution_count": null,
      "outputs": []
    },
    {
      "cell_type": "markdown",
      "source": [
        "**Write a Python program to perform an independent T-test and interpret the results**"
      ],
      "metadata": {
        "id": "Kz0ArISF-5lC"
      }
    },
    {
      "cell_type": "code",
      "source": [
        "from scipy.stats import ttest_ind\n",
        "\n",
        "group1 = np.random.normal(50, 5, 30)\n",
        "group2 = np.random.normal(52, 5, 30)\n",
        "\n",
        "t_stat, p_value = ttest_ind(group1, group2)\n",
        "print(f\"T-statistic: {t_stat:.4f}, P-value: {p_value:.4f}\")\n",
        "\n",
        "if p_value < 0.05:\n",
        "    print(\"Reject the null hypothesis: The groups have significantly different means.\")\n",
        "else:\n",
        "    print(\"Fail to reject the null hypothesis: No significant difference between the groups.\")\n"
      ],
      "metadata": {
        "id": "WksJFuMx--VS"
      },
      "execution_count": null,
      "outputs": []
    },
    {
      "cell_type": "markdown",
      "source": [
        "**Perform a paired sample T-test using Python and visualize the comparison results**"
      ],
      "metadata": {
        "id": "kcMfhKEe_e8R"
      }
    },
    {
      "cell_type": "code",
      "source": [
        "from scipy.stats import ttest_rel\n",
        "\n",
        "before = np.random.normal(50, 5, 30)\n",
        "after = before + np.random.normal(0, 2, 30)  # Slight change\n",
        "\n",
        "t_stat, p_value = ttest_rel(before, after)\n",
        "print(f\"Paired T-test: T-statistic={t_stat:.4f}, P-value={p_value:.4f}\")\n",
        "\n",
        "plt.figure(figsize=(6, 4))\n",
        "plt.plot(before, label=\"Before\", marker='o')\n",
        "plt.plot(after, label=\"After\", marker='o')\n",
        "plt.legend()\n",
        "plt.title(\"Paired Sample T-test Comparison\")\n",
        "plt.show()\n"
      ],
      "metadata": {
        "id": "Gz299maY_rMj"
      },
      "execution_count": null,
      "outputs": []
    },
    {
      "cell_type": "markdown",
      "source": [
        "** Simulate data and perform both Z-test and T-test, then compare the results using Python**"
      ],
      "metadata": {
        "id": "uSacWdZ8_tj5"
      }
    },
    {
      "cell_type": "code",
      "source": [
        "sample1 = np.random.normal(50, 5, 30)\n",
        "sample2 = np.random.normal(52, 5, 30)\n",
        "\n",
        "# Z-test\n",
        "z_score, p_value_z = one_sample_z_test(sample1, 50, 5)\n",
        "\n",
        "# T-test\n",
        "t_stat, p_value_t = ttest_ind(sample1, sample2)\n",
        "\n",
        "print(f\"Z-test: Z-score={z_score:.4f}, P-value={p_value_z:.4f}\")\n",
        "print(f\"T-test: T-statistic={t_stat:.4f}, P-value={p_value_t:.4f}\")\n"
      ],
      "metadata": {
        "id": "XB0sUfzF_xCB"
      },
      "execution_count": null,
      "outputs": []
    },
    {
      "cell_type": "markdown",
      "source": [
        "**Write a Python function to calculate the confidence interval for a sample mean and explain its significance**"
      ],
      "metadata": {
        "id": "APBFaF7W_5Vy"
      }
    },
    {
      "cell_type": "markdown",
      "source": [
        "import scipy.stats as stats\n",
        "\n",
        "def confidence_interval(sample, confidence=0.95):\n",
        "    sample_mean = np.mean(sample)\n",
        "    se = np.std(sample, ddof=1) / np.sqrt(len(sample))\n",
        "    margin_error = stats.t.ppf((1 + confidence) / 2, len(sample) - 1) * se\n",
        "    return sample_mean - margin_error, sample_mean + margin_error\n",
        "\n",
        "# Example Usage\n",
        "sample_data = np.random.normal(50, 5, 30)\n",
        "ci_lower, ci_upper = confidence_interval(sample_data)\n",
        "print(f\"95% Confidence Interval: ({ci_lower:.4f}, {ci_upper:.4f})\")\n"
      ],
      "metadata": {
        "id": "l_VyuWnY_7jZ"
      }
    },
    {
      "cell_type": "markdown",
      "source": [
        "** Calculate the margin of error for a given confidence level using sample data**"
      ],
      "metadata": {
        "id": "xK6h9NjuAoth"
      }
    },
    {
      "cell_type": "code",
      "source": [
        "import scipy.stats as stats\n",
        "import numpy as np\n",
        "\n",
        "def margin_of_error(sample, confidence=0.95):\n",
        "    se = np.std(sample, ddof=1) / np.sqrt(len(sample))\n",
        "    t_critical = stats.t.ppf((1 + confidence) / 2, len(sample) - 1)\n",
        "    return t_critical * se\n",
        "\n",
        "sample_data = np.random.normal(50, 5, 30)\n",
        "me = margin_of_error(sample_data)\n",
        "print(f\"Margin of Error: {me:.4f}\")\n"
      ],
      "metadata": {
        "id": "Pp1ADAIPArXJ"
      },
      "execution_count": null,
      "outputs": []
    },
    {
      "cell_type": "markdown",
      "source": [
        "**Implement Bayesian inference using Bayes' Theorem in Python and explain the process**"
      ],
      "metadata": {
        "id": "uFUa3DHxA2yR"
      }
    },
    {
      "cell_type": "code",
      "source": [
        "def bayes_theorem(prior, likelihood, evidence):\n",
        "    return (likelihood * prior) / evidence\n",
        "\n",
        "prior_prob = 0.02\n",
        "likelihood = 0.8\n",
        "evidence = (likelihood * prior_prob) + ((1 - likelihood) * (1 - prior_prob))\n",
        "\n",
        "posterior_prob = bayes_theorem(prior_prob, likelihood, evidence)\n",
        "print(f\"Posterior Probability: {posterior_prob:.4f}\")\n"
      ],
      "metadata": {
        "id": "D8MDJk9uA_SC"
      },
      "execution_count": null,
      "outputs": []
    },
    {
      "cell_type": "markdown",
      "source": [
        "3. Perform a Chi-square test for independence between two categorical variables in Python\n",
        "Chi-square tests if two categorical variables are related.\n",
        "\n",
        "\n",
        "\n",
        "\n",
        "\n",
        "import pandas as pd\n",
        "from scipy.stats import chi2_contingency\n",
        "\n",
        "data = pd.DataFrame({\"A\": [30, 10], \"B\": [20, 40]})\n",
        "chi2, p, _, _ = chi2_contingency(data)\n",
        "print(f\"Chi-square Statistic: {chi2:.4f}, P-value: {p:.4f}\")\n",
        "4. Calculate the expected frequencies for a Chi-square test based on observed data\n",
        "python\n",
        "Copy\n",
        "Edit\n",
        "observed = np.array([[30, 10], [20, 40]])\n",
        "_, _, dof, expected = chi2_contingency(observed)\n",
        "\n",
        "print(\"Expected Frequencies:\\n\", expected)\n",
        "5. Perform a goodness-of-fit test using Python to compare observed vs. expected distribution\n",
        "python\n",
        "Copy\n",
        "Edit\n",
        "from scipy.stats import chisquare\n",
        "\n",
        "observed = np.array([50, 30, 20])\n",
        "expected = np.array([40, 40, 20])\n",
        "\n",
        "chi2_stat, p_value = chisquare(observed, expected)\n",
        "print(f\"Chi-square Statistic: {chi2_stat:.4f}, P-value: {p_value:.4f}\")\n",
        "\n",
        "\n",
        "6. Simulate and visualize the Chi-square distribution\n",
        "python\n",
        "Copy\n",
        "Edit\n",
        "import matplotlib.pyplot as plt\n",
        "import scipy.stats as stats\n",
        "\n",
        "x = np.linspace(0, 10, 1000)\n",
        "y = stats.chi2.pdf(x, df=4)\n",
        "\n",
        "plt.plot(x, y, label=\"Chi-square Distribution (df=4)\")\n",
        "plt.title(\"Chi-square Distribution\")\n",
        "plt.legend()\n",
        "plt.show()\n",
        "\n",
        "\n",
        "\n",
        "7. Implement an F-test to compare variances of two samples\n",
        "python\n",
        "Copy\n",
        "Edit\n",
        "from scipy.stats import f\n",
        "\n",
        "sample1 = np.random.normal(50, 5, 30)\n",
        "sample2 = np.random.normal(50, 8, 30)\n",
        "\n",
        "f_stat = np.var(sample1, ddof=1) / np.var(sample2, ddof=1)\n",
        "p_value = 1 - f.cdf(f_stat, len(sample1)-1, len(sample2)-1)\n",
        "\n",
        "print(f\"F-statistic: {f_stat:.4f}, P-value: {p_value:.4f}\")\n",
        "\n",
        "\n",
        "\n",
        "\n",
        "8. Perform an ANOVA test to compare means between multiple groups\n",
        "python\n",
        "Copy\n",
        "Edit\n",
        "from scipy.stats import f_oneway\n",
        "\n",
        "group1 = np.random.normal(50, 5, 30)\n",
        "group2 = np.random.normal(52, 5, 30)\n",
        "group3 = np.random.normal(55, 5, 30)\n",
        "\n",
        "f_stat, p_value = f_oneway(group1, group2, group3)\n",
        "print(f\"ANOVA F-statistic: {f_stat:.4f}, P-value: {p_value:.4f}\")\n",
        "\n",
        "\n",
        "9. Perform a one-way ANOVA test and plot the results\n",
        "python\n",
        "Copy\n",
        "Edit\n",
        "import seaborn as sns\n",
        "\n",
        "data = [group1, group2, group3]\n",
        "plt.boxplot(data, labels=['Group 1', 'Group 2', 'Group 3'])\n",
        "plt.title(\"One-way ANOVA\")\n",
        "plt.show()\n",
        "\n",
        "\n",
        "10. Check assumptions for ANOVA (normality, independence, equal variance)\n",
        "python\n",
        "Copy\n",
        "Edit\n",
        "from scipy.stats import shapiro, levene\n",
        "\n",
        "print(\"Shapiro-Wilk Normality Test:\")\n",
        "for i, g in enumerate([group1, group2, group3]):\n",
        "    print(f\"Group {i+1}: p-value = {shapiro(g)[1]:.4f}\")\n",
        "\n",
        "print(\"\\nLevene’s Test for Equal Variance:\")\n",
        "print(f\"P-value: {levene(group1, group2, group3)[1]:.4f}\")\n",
        "\n",
        "\n",
        "11. Perform a two-way ANOVA test and visualize results\n",
        "python\n",
        "Copy\n",
        "Edit\n",
        "import statsmodels.api as sm\n",
        "from statsmodels.formula.api import ols\n",
        "\n",
        "df = pd.DataFrame({\"FactorA\": np.tile([\"A\", \"B\"], 30),\n",
        "                   \"FactorB\": np.tile([\"X\", \"Y\"], 30),\n",
        "                   \"Response\": np.random.normal(50, 5, 60)})\n",
        "\n",
        "model = ols('Response ~ C(FactorA) + C(FactorB) + C(FactorA):C(FactorB)', data=df).fit()\n",
        "anova_results = sm.stats.anova_lm(model, typ=2)\n",
        "print(anova_results)\n",
        "\n",
        "\n",
        "12. Visualize the F-distribution\n",
        "python\n",
        "Copy\n",
        "Edit\n",
        "x = np.linspace(0, 5, 1000)\n",
        "y = stats.f.pdf(x, dfn=5, dfd=10)\n",
        "\n",
        "plt.plot(x, y, label=\"F-distribution (df1=5, df2=10)\")\n",
        "plt.legend()\n",
        "plt.show()\n",
        "\n",
        "\n",
        "\n",
        "13. One-way ANOVA with boxplots\n",
        "python\n",
        "Copy\n",
        "Edit\n",
        "sns.boxplot(data=[group1, group2, group3])\n",
        "plt.title(\"One-way ANOVA Boxplot\")\n",
        "plt.show()\n",
        "\n",
        "\n",
        "14. Simulate normal data and perform hypothesis testing\n",
        "python\n",
        "Copy\n",
        "Edit\n",
        "sample = np.random.normal(50, 5, 30)\n",
        "t_stat, p_value = stats.ttest_1samp(sample, 50)\n",
        "print(f\"T-test: T-stat={t_stat:.4f}, P-value={p_value:.4f}\")\n",
        "\n",
        "\n",
        "15. Hypothesis test for population variance using a Chi-square test\n",
        "python\n",
        "Copy\n",
        "Edit\n",
        "n = len(sample)\n",
        "sample_variance = np.var(sample, ddof=1)\n",
        "pop_variance = 25\n",
        "\n",
        "chi2_stat = (n - 1) * sample_variance / pop_variance\n",
        "p_value = 1 - stats.chi2.cdf(chi2_stat, df=n-1)\n",
        "\n",
        "print(f\"Chi-square Statistic: {chi2_stat:.4f}, P-value: {p_value:.4f}\")\n",
        "\n",
        "\n",
        "16. Perform a Z-test for comparing proportions between two groups\n",
        "python\n",
        "Copy\n",
        "Edit\n",
        "from statsmodels.stats.proportion import proportions_ztest\n",
        "\n",
        "count = np.array([30, 40])\n",
        "nobs = np.array([100, 120])\n",
        "\n",
        "z_stat, p_value = proportions_ztest(count, nobs)\n",
        "print(f\"Z-test for Proportions: Z={z_stat:.4f}, P-value={p_value:.4f}\")\n",
        "\n",
        "17. F-test for comparing variances and visualization\n",
        "python\n",
        "Copy\n",
        "Edit\n",
        "plt.hist(sample1, alpha=0.5, label=\"Sample 1\")\n",
        "plt.hist(sample2, alpha=0.5, label=\"Sample 2\")\n",
        "plt.legend()\n",
        "plt.show()\n",
        "\n",
        "\n",
        "18. Chi-square test for goodness of fit with simulated data\n",
        "python\n",
        "Copy\n",
        "Edit\n",
        "observed = np.random.randint(10, 50, size=5)\n",
        "expected = np.full(5, np.mean(observed))\n",
        "\n",
        "chi2_stat, p_value = chisquare(observed, expected)\n",
        "print(f\"Chi-square Statistic: {chi2_stat:.4f}, P-value: {p_value:.4f}\")"
      ],
      "metadata": {
        "id": "n9iPp6FGBkep"
      }
    }
  ]
}