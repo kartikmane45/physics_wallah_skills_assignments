{
  "nbformat": 4,
  "nbformat_minor": 0,
  "metadata": {
    "colab": {
      "provenance": [],
      "authorship_tag": "ABX9TyOKVQ9dXJBR3ckd+/R1hhr8",
      "include_colab_link": true
    },
    "kernelspec": {
      "name": "python3",
      "display_name": "Python 3"
    },
    "language_info": {
      "name": "python"
    }
  },
  "cells": [
    {
      "cell_type": "markdown",
      "metadata": {
        "id": "view-in-github",
        "colab_type": "text"
      },
      "source": [
        "<a href=\"https://colab.research.google.com/github/kartikmane45/physics_wallah_skills_assignments/blob/main/Basics_of_Statistics.ipynb\" target=\"_parent\"><img src=\"https://colab.research.google.com/assets/colab-badge.svg\" alt=\"Open In Colab\"/></a>"
      ]
    },
    {
      "cell_type": "markdown",
      "source": [
        "1. Explain the different types of data (qualitative and quantitative) and provide examples of each. Discuss nominal, ordinal, interval, and ratio scales.\n",
        "Answer:\n",
        "•\tQualitative Data: Descriptive data that describes qualities or categories.\n",
        "Example: Colors of cars (red, blue), types of fruits (apple, banana).\n",
        "o\tNominal: Categories without order. Example: Gender (male, female).\n",
        "o\tOrdinal: Ordered categories. Example: Education levels (high school, bachelor's, master's).\n",
        "•\tQuantitative Data: Numeric data representing amounts or measurements.\n",
        "Example: Age, temperature.\n",
        "o\tInterval: Numeric, equal intervals, no true zero. Example: Temperature in Celsius.\n",
        "o\tRatio: Numeric, equal intervals, true zero exists. Example: Weight, height.\n",
        "________________________________________\n",
        "2. What are the measures of central tendency, and when should you use each?\n",
        "Answer:\n",
        "•\tMean: Average of values. Use when data is evenly distributed.\n",
        "Example: Average marks in a class.\n",
        "•\tMedian: Middle value when data is ordered. Use when data has outliers.\n",
        "Example: Median house price in a region.\n",
        "•\tMode: Most frequent value. Use for categorical data.\n",
        "Example: Most preferred ice cream flavor.\n",
        "________________________________________\n",
        "3. Explain the concept of dispersion. How do variance and standard deviation measure the spread of data?\n",
        "Answer:\n",
        "•\tDispersion: Describes how spread out the data is.\n",
        "o\tVariance: Measures average squared difference from the mean.\n",
        "o\tStandard Deviation: Square root of variance, shows spread in the same units as the data.\n",
        "Example: Low standard deviation indicates data points are close to the mean.\n",
        "________________________________________\n",
        "4. What is a box plot, and what can it tell you about the distribution of data?\n",
        "Answer:\n",
        "•\tBox Plot: A visual summary of data showing minimum, lower quartile (Q1), median (Q2), upper quartile (Q3), and maximum.\n",
        "It helps identify skewness, spread, and outliers.\n",
        "________________________________________\n",
        "5. Discuss the role of random sampling in making inferences about populations.\n",
        "Answer:\n",
        "•\tRandom Sampling: Selecting a subset of data where every member has an equal chance of selection.\n",
        "It ensures unbiased results and represents the population for accurate inferences.\n",
        "________________________________________\n",
        "6. Explain the concept of skewness and its types. How does skewness affect the interpretation of data?\n",
        "Answer:\n",
        "•\tSkewness: Measures asymmetry of data distribution.\n",
        "o\tPositive Skew: Long tail on the right. Example: Income data.\n",
        "o\tNegative Skew: Long tail on the left. Example: Age at retirement.\n",
        "Skewness affects mean, making it less reliable for center measurement.\n",
        "________________________________________\n",
        "7. What is the interquartile range (IQR), and how is it used to detect outliers?\n",
        "Answer:\n",
        "•\tIQR: Difference between Q3 and Q1.\n",
        "Formula: IQR=Q3−Q1\\text{IQR} = Q3 - Q1.\n",
        "Detect outliers by checking values beyond 1.5×IQR1.5 \\times \\text{IQR} above Q3 or below Q1.\n",
        "________________________________________\n",
        "8. Discuss the conditions under which the binomial distribution is used.\n",
        "Answer:\n",
        "•\tUsed when:\n",
        "1.\tThere are fixed trials.\n",
        "2.\tEach trial has two outcomes (success/failure).\n",
        "3.\tProbability of success is constant.\n",
        "Example: Flipping a coin 10 times.\n",
        "________________________________________\n",
        "9. Explain the properties of the normal distribution and the empirical rule (68-95-99.7 rule).\n",
        "Answer:\n",
        "•\tNormal Distribution: Symmetrical, bell-shaped curve.\n",
        "•\tEmpirical Rule:\n",
        "o\t68% of data lies within 1 SD.\n",
        "o\t95% within 2 SDs.\n",
        "o\t99.7% within 3 SDs.\n",
        "Example: Heights of adults.\n",
        "________________________________________\n",
        "10. Provide a real-life example of a Poisson process and calculate the probability for a specific event.\n",
        "Answer:\n",
        "•\tExample: Number of cars passing a toll booth in an hour.\n",
        "•\tFormula: P(X=k)=λke−λk!P(X = k) = \\frac{\\lambda^k e^{-\\lambda}}{k!},\n",
        "where λ\\lambda = average rate, kk = specific count.\n",
        "If λ=5\\lambda = 5 and k=3k = 3:\n",
        "P(X=3)=53e−53!P(X = 3) = \\frac{5^3 e^{-5}}{3!}.\n",
        "________________________________________\n",
        "11. Explain what a random variable is and differentiate between discrete and continuous random variables.\n",
        "Answer:\n",
        "•\tRandom Variable: Variable representing outcomes of a random process.\n",
        "o\tDiscrete: Countable values. Example: Number of calls in a day.\n",
        "o\tContinuous: Infinite possible values. Example: Time to complete a task.\n",
        "________________________________________\n",
        "12. Provide an example dataset, calculate both covariance and correlation, and interpret the results.\n",
        "Answer:\n",
        "•\tDataset:\n",
        "X=[1,2,3]X = [1, 2, 3], Y=[4,6,8]Y = [4, 6, 8].\n",
        "•\tCovariance: Cov(X,Y)=2\\text{Cov}(X, Y) = 2. Indicates the direction of the relationship.\n",
        "•\tCorrelation: Corr(X,Y)=1\\text{Corr}(X, Y) = 1. Indicates a perfect positive relationship.\n"
      ],
      "metadata": {
        "id": "D_HFwXonCIvg"
      }
    }
  ]
}