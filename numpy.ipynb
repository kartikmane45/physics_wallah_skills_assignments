{
  "nbformat": 4,
  "nbformat_minor": 0,
  "metadata": {
    "colab": {
      "provenance": [],
      "include_colab_link": true
    },
    "kernelspec": {
      "name": "python3",
      "display_name": "Python 3"
    },
    "language_info": {
      "name": "python"
    }
  },
  "cells": [
    {
      "cell_type": "markdown",
      "metadata": {
        "id": "view-in-github",
        "colab_type": "text"
      },
      "source": [
        "<a href=\"https://colab.research.google.com/github/kartikmane45/physics_wallah_skills_assignments/blob/main/numpy.ipynb\" target=\"_parent\"><img src=\"https://colab.research.google.com/assets/colab-badge.svg\" alt=\"Open In Colab\"/></a>"
      ]
    },
    {
      "cell_type": "markdown",
      "source": [
        "### THEORY QUESTIONS"
      ],
      "metadata": {
        "id": "6eYQ20GDCZc4"
      }
    },
    {
      "cell_type": "markdown",
      "source": [
        " 1. Explain the purpose and advantages of NumPy in scientific computing and data analysis. How does it enhance Python's capabilities for numerical operations?\n",
        "\n",
        "Ans: NumPy is crucial for scientific computing and data analysis as it allows efficient numerical operations on large, multi-dimensional arrays and matrices. It enhances Python by:\n",
        "\n",
        "Efficient Memory Usage: Consumes less memory than lists.\n",
        "Vectorized Operations: Speeds up calculations by removing the need for loops.\n",
        "Multi-dimensional Arrays: Supports complex data like matrices and tensors.\n",
        "Comprehensive Functions: Provides a wide range of mathematical tools.\n",
        "With optimized C code, NumPy significantly boosts Python’s speed for numerical tasks and makes data manipulation more intuitive using advanced indexing and slicing."
      ],
      "metadata": {
        "id": "cN8WGaVHCZZa"
      }
    },
    {
      "cell_type": "markdown",
      "source": [
        "2. Compare and contrast np.mean() and np.average() functions in NumPy. When would you use one over the other?\n",
        "\n",
        "\n",
        "Ans:Both `np.mean()` and `np.average()` calculate the average of array elements in NumPy. The key difference is that `np.mean()` computes a simple arithmetic mean, while `np.average()` can compute a weighted average if weights are provided; otherwise, it behaves like `np.mean()`. You would use `np.mean()` for straightforward averages and `np.average()` when you need to account for weights in your calculation.\n"
      ],
      "metadata": {
        "id": "j5pwqHhRCZWa"
      }
    },
    {
      "cell_type": "markdown",
      "source": [
        "3. Describe the methods for reversing a NumPy array along different axes. Provide examples for 1D and 2D arrays.\n",
        "\n",
        "Ans:\n",
        "To reverse a NumPy array along different axes, you can use slicing or the np.flip() function. For a 1D array, reverse it using slicing (arr[::-1]). For a 2D array, use np.flip() to reverse along specific axes, such as rows or columns.\n",
        "\n",
        "Examples:\n"
      ],
      "metadata": {
        "id": "CPM536y2CZSl"
      }
    },
    {
      "cell_type": "code",
      "source": [
        "# Examples:\n",
        "\n",
        "# 1D Array\n",
        "arr = np.array([1, 2, 3])\n",
        "reversed_arr = arr[::-1]\n",
        "\n",
        "# 2D Array (reverse along rows)\n",
        "arr = np.array([[1, 2], [3, 4]])\n",
        "reversed_arr = np.flip(arr, axis=0)\n",
        "\n",
        "# 2D Array (reverse along columns)\n",
        "reversed_arr = np.flip(arr, axis=1)\n"
      ],
      "metadata": {
        "id": "sVyI1M4yFQyu"
      },
      "execution_count": null,
      "outputs": []
    },
    {
      "cell_type": "markdown",
      "source": [
        "4. How can you determine the data type of elements in a NumPy array? Discuss the importance of data types in memory management and performance.\n",
        "\n",
        "Ans:\n",
        "\n",
        "To determine the data type of elements in a NumPy array, use the .dtype attribute (e.g., arr.dtype).\n",
        "\n",
        "Data types are important for memory management and performance; different types consume varying amounts of memory and affect computation speed. For instance, using int32 (4 bytes) instead of float64 (8 bytes) can reduce memory usage significantly. Properly managing data types enhances efficiency and accelerates numerical operations in NumPy."
      ],
      "metadata": {
        "id": "P_j9q_SFCZPw"
      }
    },
    {
      "cell_type": "markdown",
      "source": [
        "5. Define ndarrays in NumPy and explain their key features. How do they differ from standard Python lists?\n",
        "Ans:\n",
        "**Ndarrays** (n-dimensional arrays) in NumPy are powerful data structures designed for efficient data storage and manipulation. Key features include:\n",
        "\n",
        "**Homogeneous Data Type:** All elements must be of the same type.\n",
        "\n",
        "**Multi-dimensionality:** Supports various dimensions (1D, 2D, 3D, etc.).\n",
        "\n",
        "**Contiguous Memory Allocation:** Enhances speed and efficiency.\n",
        "\n",
        "**Vectorized Operations:** Allows fast mathematical computations on entire arrays.\n",
        "\n",
        "**Differences from Standard Python Lists:**\n",
        "- Ndarrays require homogeneous data types, while lists can hold mixed types.\n",
        "\n",
        "- Ndarrays are more memory-efficient and faster for numerical operations.\n",
        "\n",
        "- Ndarrays support multi-dimensional data natively, whereas lists need nested structures for similar functionality."
      ],
      "metadata": {
        "id": "zyxjjVdhCZNU"
      }
    },
    {
      "cell_type": "markdown",
      "source": [
        "6. Analyze the performance benefits of NumPy arrays over Python lists for large-scale numerical operations.\n",
        "Ans:\n",
        "\n",
        "NumPy arrays outperform Python lists in large-scale numerical operations due to:\n",
        "\n",
        "1. **Memory Efficiency:** Contiguous memory allocation reduces overhead.\n",
        "\n",
        "2. **Faster Computation:** C-based implementations speed up calculations.\n",
        "\n",
        "3. **Vectorization:** Enables batch processing without loops.\n",
        "\n",
        "4. **Reduced Overhead:** Minimizes function call overhead.\n",
        "\n",
        "These advantages lead to faster and more efficient handling of large datasets."
      ],
      "metadata": {
        "id": "OfAyE6nVCZKW"
      }
    },
    {
      "cell_type": "markdown",
      "source": [
        "7. Compare vstack() and hstack() functions in NumPy. Provide examples demonstrating their usage and output.\n",
        "Ans:\n",
        "vstack(): This function stacks arrays vertically (row-wise). It takes a tuple of arrays as input and combines them along a new vertical axis. All arrays must have the same number of columns.\n",
        "\n",
        "hstack(): This function stacks arrays horizontally (column-wise). It also takes a tuple of arrays as input and combines them along a new horizontal axis. All arrays must have the same number of rows."
      ],
      "metadata": {
        "id": "mpzMGGnpCZIM"
      }
    },
    {
      "cell_type": "code",
      "source": [
        "import numpy as np\n",
        "\n",
        "# Create two arrays\n",
        "a = np.array([[1, 2], [3, 4]])  # 2x2 array\n",
        "b = np.array([[5, 6]])           # 1x2 array\n",
        "\n",
        "# Using vstack() to stack arrays vertically\n",
        "vstack_result = np.vstack((a, b))\n",
        "print(\"vstack result:\\n\", vstack_result)\n",
        "\n",
        "# Using hstack() to stack arrays horizontally\n",
        "hstack_result = np.hstack((a, b.T))  # Transpose b to match dimensions\n",
        "print(\"hstack result:\\n\", hstack_result)\n"
      ],
      "metadata": {
        "id": "4po1BiQBI8AQ"
      },
      "execution_count": null,
      "outputs": []
    },
    {
      "cell_type": "markdown",
      "source": [
        "8. Explain the differences between fliplr() and flipud() methods in NumPy, including their effects on various array dimensions\n",
        "Ans:\n",
        "\n",
        "np.fliplr() (Flip Left to Right)\n",
        "Purpose: fliplr() reverses the columns of a 2D array, effectively flipping it horizontally (left to right).\n",
        "Dimensional Requirement: The input array must be at least 2D. It flips along the second axis (axis=1).\n",
        "Effect: The elements in each row are reversed, while the rows themselves remain in the same order.\n",
        "\n"
      ],
      "metadata": {
        "id": "QwVxKrQZCZFQ"
      }
    },
    {
      "cell_type": "code",
      "source": [
        "import numpy as np\n",
        "\n",
        "arr_2d = np.array([[1, 2, 3],\n",
        "                   [4, 5, 6],\n",
        "                   [7, 8, 9]])\n",
        "\n",
        "# Flip the array left to right (horizontally)\n",
        "result_fliplr = np.fliplr(arr_2d)\n",
        "print(result_fliplr)\n"
      ],
      "metadata": {
        "id": "iooT-bFULgsd"
      },
      "execution_count": null,
      "outputs": []
    },
    {
      "cell_type": "markdown",
      "source": [
        "np.flipud() (Flip Up to Down)\n",
        "Purpose: flipud() reverses the rows of a 2D array, effectively flipping it vertically (up to down).\n",
        "Dimensional Requirement: flipud() works on arrays of any dimension (1D, 2D, etc.). It flips along the first axis (axis=0).\n",
        "Effect: The rows of the array are reversed, while the columns remain in the same order."
      ],
      "metadata": {
        "id": "ZPIDjNhELlbB"
      }
    },
    {
      "cell_type": "code",
      "source": [
        "arr_2d = np.array([[1, 2, 3],\n",
        "                   [4, 5, 6],\n",
        "                   [7, 8, 9]])\n",
        "\n",
        "# Flip the array up to down (vertically)\n",
        "result_flipud = np.flipud(arr_2d)\n",
        "print(result_flipud)\n"
      ],
      "metadata": {
        "id": "7G3Q688nLtUs"
      },
      "execution_count": null,
      "outputs": []
    },
    {
      "cell_type": "markdown",
      "source": [
        "9. Discuss the functionality of the array_split() method in NumPy. How does it handle uneven splits?\n",
        "\n",
        "Ans:\n",
        "\n",
        "The array_split() method in NumPy is used to split an array into multiple sub-arrays. Unlike the split() method, which requires the input array to be evenly divisible by the number of splits, array_split() can handle uneven splits, making it more flexible\n",
        "\n",
        "Key Features of array_split():\n",
        "Input Array: It works with arrays of any dimensionality (1D, 2D, 3D, etc.).\n",
        "Number of Splits: You can specify the number of sub-arrays you want to create.\n",
        "\n",
        "Handling Uneven Splits:\n",
        "When the number of elements in the array is not evenly divisible by the number of splits, array_split() distributes the extra elements to the earlier sub-arrays. The sub-arrays are created such that their sizes differ by at most 1 element."
      ],
      "metadata": {
        "id": "ucez7zTkCZCu"
      }
    },
    {
      "cell_type": "markdown",
      "source": [
        "10. Explain the concepts of vectorization and broadcasting in NumPy. How do they contribute to efficient array operations?\n",
        "Ans:\n",
        "\n",
        "Vectorization in NumPy refers to the process of performing operations on entire arrays rather than using explicit loops. This allows NumPy to leverage low-level optimizations and take advantage of parallel processing, leading to faster computations.\n",
        "\n",
        "Broadcasting is a technique that allows NumPy to perform arithmetic operations on arrays of different shapes. It automatically expands the smaller array along the dimensions of the larger one to make their shapes compatible for element-wise operations.\n",
        "\n",
        "Together, vectorization and broadcasting enable efficient array operations by:\n",
        "\n",
        "Reducing the need for loops, resulting in cleaner and more readable code.\n",
        "Leveraging optimized C and Fortran libraries, which significantly enhances performance.\n",
        "Allowing operations on arrays of varying sizes without manual reshaping, simplifying code development.\n",
        "This leads to faster execution times and more efficient memory usage in numerical computations."
      ],
      "metadata": {
        "id": "FLmUxg5oCZAR"
      }
    },
    {
      "cell_type": "markdown",
      "source": [
        "### PRACTICAL QUESTIONS"
      ],
      "metadata": {
        "id": "g8bR-qTECYrP"
      }
    },
    {
      "cell_type": "code",
      "execution_count": null,
      "metadata": {
        "colab": {
          "base_uri": "https://localhost:8080/"
        },
        "id": "PeueFIlC4lAS",
        "outputId": "ab61e231-4bb4-425a-fefc-633f782894da"
      },
      "outputs": [
        {
          "output_type": "stream",
          "name": "stdout",
          "text": [
            "[[84 18  3]\n",
            " [49 72 61]\n",
            " [34  7 64]]\n"
          ]
        }
      ],
      "source": [
        "#1. Create a 3x3 NumPy array with random integers between 1 and 100. Then, interchange its rows and columns.\n",
        "import numpy as np\n",
        "a=np.random.randint(1,100 , size = (3,3))\n",
        "print(a)"
      ]
    },
    {
      "cell_type": "code",
      "source": [
        "a.T   #transpose of a matrix which interchanges the rows and coloumns."
      ],
      "metadata": {
        "colab": {
          "base_uri": "https://localhost:8080/"
        },
        "id": "CMzYW1GZ7Xln",
        "outputId": "2873764c-3ee6-4e28-ca43-767cfa4a7e31"
      },
      "execution_count": null,
      "outputs": [
        {
          "output_type": "execute_result",
          "data": {
            "text/plain": [
              "array([[84, 49, 34],\n",
              "       [18, 72,  7],\n",
              "       [ 3, 61, 64]])"
            ]
          },
          "metadata": {},
          "execution_count": 17
        }
      ]
    },
    {
      "cell_type": "code",
      "source": [
        "#2. Generate a 1D NumPy array with 10 elements. Reshape it into a 2x5 array, then into a 5x2 array.\n",
        "import numpy as np\n",
        "a=np.random.randint(1,100 , size =10)"
      ],
      "metadata": {
        "id": "VbANzCJU6G-Z"
      },
      "execution_count": null,
      "outputs": []
    },
    {
      "cell_type": "code",
      "source": [
        "a"
      ],
      "metadata": {
        "colab": {
          "base_uri": "https://localhost:8080/"
        },
        "id": "wBFb-bVd69V2",
        "outputId": "d33b294c-1102-46a4-98ef-739cffd7887b"
      },
      "execution_count": null,
      "outputs": [
        {
          "output_type": "execute_result",
          "data": {
            "text/plain": [
              "array([89, 69, 28, 35,  7, 59, 45, 31,  1, 78])"
            ]
          },
          "metadata": {},
          "execution_count": 12
        }
      ]
    },
    {
      "cell_type": "code",
      "source": [
        "a.reshape(2,5)"
      ],
      "metadata": {
        "colab": {
          "base_uri": "https://localhost:8080/"
        },
        "id": "DARFy7kG7D2u",
        "outputId": "c588693c-bf9b-4490-c97a-560586b7522c"
      },
      "execution_count": null,
      "outputs": [
        {
          "output_type": "execute_result",
          "data": {
            "text/plain": [
              "array([[89, 69, 28, 35,  7],\n",
              "       [59, 45, 31,  1, 78]])"
            ]
          },
          "metadata": {},
          "execution_count": 13
        }
      ]
    },
    {
      "cell_type": "code",
      "source": [
        "a.reshape(5,2)"
      ],
      "metadata": {
        "colab": {
          "base_uri": "https://localhost:8080/"
        },
        "id": "NdTktRT37IV7",
        "outputId": "a9cf6f3a-2cd1-4a51-f5fd-6f84203d3407"
      },
      "execution_count": null,
      "outputs": [
        {
          "output_type": "execute_result",
          "data": {
            "text/plain": [
              "array([[89, 69],\n",
              "       [28, 35],\n",
              "       [ 7, 59],\n",
              "       [45, 31],\n",
              "       [ 1, 78]])"
            ]
          },
          "metadata": {},
          "execution_count": 14
        }
      ]
    },
    {
      "cell_type": "code",
      "source": [
        "#3. Create a 4x4 NumPy array with random float values. Add a border of zeros around it, resulting in a 6x6 array.\n",
        "import numpy as np\n",
        "a=np.random.rand(4,4)\n",
        "print(a)\n",
        "b = np.zeros((6, 6))\n",
        "# Place the original array in the center of the 6x6 array\n",
        "b[1:5, 1:5] = a\n",
        "print(b)"
      ],
      "metadata": {
        "colab": {
          "base_uri": "https://localhost:8080/"
        },
        "id": "XKdmGtnr7MNZ",
        "outputId": "87bc805d-39e7-4d56-c0da-45665a4ae5c4"
      },
      "execution_count": null,
      "outputs": [
        {
          "output_type": "stream",
          "name": "stdout",
          "text": [
            "[[0.22389053 0.84027603 0.96439944 0.12182852]\n",
            " [0.42642526 0.51479227 0.31777492 0.70550963]\n",
            " [0.44641893 0.77715683 0.70832589 0.96221494]\n",
            " [0.29948718 0.91065415 0.58535678 0.31361112]]\n",
            "[[0.         0.         0.         0.         0.         0.        ]\n",
            " [0.         0.22389053 0.84027603 0.96439944 0.12182852 0.        ]\n",
            " [0.         0.42642526 0.51479227 0.31777492 0.70550963 0.        ]\n",
            " [0.         0.44641893 0.77715683 0.70832589 0.96221494 0.        ]\n",
            " [0.         0.29948718 0.91065415 0.58535678 0.31361112 0.        ]\n",
            " [0.         0.         0.         0.         0.         0.        ]]\n"
          ]
        }
      ]
    },
    {
      "cell_type": "code",
      "source": [
        "#4. Using NumPy, create an array of integers from 10 to 60 with a step of 5.\n",
        "import numpy as np\n",
        "arr=np.arange(10,60,5)\n",
        "print(arr)"
      ],
      "metadata": {
        "colab": {
          "base_uri": "https://localhost:8080/"
        },
        "id": "FvEUCTOQ8CkA",
        "outputId": "5239e977-17e2-48c3-e3ab-6205fdbdc456"
      },
      "execution_count": null,
      "outputs": [
        {
          "output_type": "stream",
          "name": "stdout",
          "text": [
            "[10 15 20 25 30 35 40 45 50 55]\n"
          ]
        }
      ]
    },
    {
      "cell_type": "code",
      "source": [
        " #5.Create a NumPy array of strings ['python', 'numpy', 'pandas']. Apply different case transformations (uppercase, lowercase, title case, etc.) to each element.\\\n",
        "import numpy as np\n",
        "a=np.array(['python', 'numpy', 'pandas'])\n",
        "print(a)"
      ],
      "metadata": {
        "colab": {
          "base_uri": "https://localhost:8080/"
        },
        "id": "Ra5ML-Vf-LiZ",
        "outputId": "bfa2fe04-3982-461a-cf38-c76c9d4ec606"
      },
      "execution_count": null,
      "outputs": [
        {
          "output_type": "stream",
          "name": "stdout",
          "text": [
            "['python' 'numpy' 'pandas']\n"
          ]
        }
      ]
    },
    {
      "cell_type": "code",
      "source": [
        "np.char.upper(a)"
      ],
      "metadata": {
        "colab": {
          "base_uri": "https://localhost:8080/"
        },
        "id": "R-P2iDxg-4T-",
        "outputId": "1fb61597-416f-4c17-9391-53e43b66b72f"
      },
      "execution_count": null,
      "outputs": [
        {
          "output_type": "execute_result",
          "data": {
            "text/plain": [
              "array(['PYTHON', 'NUMPY', 'PANDAS'], dtype='<U6')"
            ]
          },
          "metadata": {},
          "execution_count": 35
        }
      ]
    },
    {
      "cell_type": "code",
      "source": [
        "np.char.lower(a)"
      ],
      "metadata": {
        "colab": {
          "base_uri": "https://localhost:8080/"
        },
        "id": "PvWSR-88_Y9z",
        "outputId": "925e4da1-ce41-4c37-fc72-c12d50396308"
      },
      "execution_count": null,
      "outputs": [
        {
          "output_type": "execute_result",
          "data": {
            "text/plain": [
              "array(['python', 'numpy', 'pandas'], dtype='<U6')"
            ]
          },
          "metadata": {},
          "execution_count": 37
        }
      ]
    },
    {
      "cell_type": "code",
      "source": [
        "np.char.title(a)"
      ],
      "metadata": {
        "colab": {
          "base_uri": "https://localhost:8080/"
        },
        "id": "YQHuTwY6_b-C",
        "outputId": "fa497e85-7e82-45b4-8e0c-76471072e473"
      },
      "execution_count": null,
      "outputs": [
        {
          "output_type": "execute_result",
          "data": {
            "text/plain": [
              "array(['Python', 'Numpy', 'Pandas'], dtype='<U6')"
            ]
          },
          "metadata": {},
          "execution_count": 39
        }
      ]
    },
    {
      "cell_type": "code",
      "source": [
        "#6. Generate a NumPy array of words. Insert a space between each character of every word in the array.\n",
        "import numpy as np\n",
        "a = np.array(['hello', 'world', 'numpy', 'array'])\n",
        "b = np.array([' '.join([char for char in word]) for word in a])\n",
        "print(b)"
      ],
      "metadata": {
        "colab": {
          "base_uri": "https://localhost:8080/"
        },
        "id": "ZqYOkaf0_fX7",
        "outputId": "d5bdd79b-bce4-4e88-ff37-3b7c495717a2"
      },
      "execution_count": null,
      "outputs": [
        {
          "output_type": "stream",
          "name": "stdout",
          "text": [
            "['h e l l o' 'w o r l d' 'n u m p y' 'a r r a y']\n"
          ]
        }
      ]
    },
    {
      "cell_type": "code",
      "source": [
        "#7. Create two 2D NumPy arrays and perform element-wise addition, subtraction, multiplication, and division.\n",
        "import numpy as np\n",
        "a1=np.array([[1,2,3],[4,5,6]])\n",
        "a2=np.array([[1,2,3],[4,5,6]])\n",
        "c=a1+a2\n",
        "d=a1-a2\n",
        "e=a1*a2\n",
        "f=a1/a2\n",
        "print(c)\n",
        "print(d)\n",
        "print(e)\n",
        "print(f)"
      ],
      "metadata": {
        "colab": {
          "base_uri": "https://localhost:8080/"
        },
        "id": "GrQetfxbCEaW",
        "outputId": "9cfc8cdd-b153-4158-cf65-e5051d33753f"
      },
      "execution_count": null,
      "outputs": [
        {
          "output_type": "stream",
          "name": "stdout",
          "text": [
            "[[ 2  4  6]\n",
            " [ 8 10 12]]\n",
            "[[0 0 0]\n",
            " [0 0 0]]\n",
            "[[ 1  4  9]\n",
            " [16 25 36]]\n",
            "[[1. 1. 1.]\n",
            " [1. 1. 1.]]\n"
          ]
        }
      ]
    },
    {
      "cell_type": "code",
      "source": [
        "#8. Use NumPy to create a 5x5 identity matrix, then extract its diagonal elements.\n",
        "import numpy as np\n",
        "a=np.eye(5)\n",
        "print(a)\n",
        "print(np.diag(a))"
      ],
      "metadata": {
        "colab": {
          "base_uri": "https://localhost:8080/"
        },
        "id": "EM4mqMxhDOad",
        "outputId": "800d2ba9-5901-41d2-8fd7-577e373d49f8"
      },
      "execution_count": null,
      "outputs": [
        {
          "output_type": "stream",
          "name": "stdout",
          "text": [
            "[[1. 0. 0. 0. 0.]\n",
            " [0. 1. 0. 0. 0.]\n",
            " [0. 0. 1. 0. 0.]\n",
            " [0. 0. 0. 1. 0.]\n",
            " [0. 0. 0. 0. 1.]]\n",
            "[1. 1. 1. 1. 1.]\n"
          ]
        }
      ]
    },
    {
      "cell_type": "code",
      "source": [
        "#9. Generate a NumPy array of 100 random integers between 0 and 1000. Find and display all prime numbers in this array.\n",
        "import numpy as np\n",
        "a=np.random.randint(0,1000,size=100)\n",
        "print(a)\n",
        "prime_numbers = []\n",
        "for num in a:\n",
        "    if num > 1:  # Check if the number is greater than 1\n",
        "        is_prime = True\n",
        "        for i in range(2, int(num**0.5) + 1):\n",
        "            if num % i == 0:\n",
        "                is_prime = False\n",
        "                break\n",
        "        if is_prime:\n",
        "            prime_numbers.append(num)\n",
        "            print(prime_numbers)"
      ],
      "metadata": {
        "colab": {
          "base_uri": "https://localhost:8080/"
        },
        "id": "zIE-JVEYDxo8",
        "outputId": "c0f35a3c-6d59-4442-8f4f-de9071ed5317"
      },
      "execution_count": null,
      "outputs": [
        {
          "output_type": "stream",
          "name": "stdout",
          "text": [
            "[424 197 206 880 234 761 250 417  24 240 663 842 659 603 389 275  28 187\n",
            " 726 242 342 381 147 244 651 368 301 888 996 778 574 105 237   4  66 654\n",
            " 230 343 101 890 914 418 670 913 273 835 708 927 665 959 443 675 478 380\n",
            " 592 601 633 595 472 875  17 330 960  49 424 122 121 393 454 364 971 439\n",
            " 436 582 753 526 633 737 314 758 325 989 881 477 854 656 261 309 285 507\n",
            " 424 437 749 958 731 201 609 326  20 981]\n",
            "[197]\n",
            "[197, 761]\n",
            "[197, 761, 659]\n",
            "[197, 761, 659, 389]\n",
            "[197, 761, 659, 389, 101]\n",
            "[197, 761, 659, 389, 101, 443]\n",
            "[197, 761, 659, 389, 101, 443, 601]\n",
            "[197, 761, 659, 389, 101, 443, 601, 17]\n",
            "[197, 761, 659, 389, 101, 443, 601, 17, 971]\n",
            "[197, 761, 659, 389, 101, 443, 601, 17, 971, 439]\n",
            "[197, 761, 659, 389, 101, 443, 601, 17, 971, 439, 881]\n"
          ]
        }
      ]
    },
    {
      "cell_type": "code",
      "source": [
        "#10.. Create a NumPy array representing daily temperatures for a month. Calculate and display the weekly averages.\n",
        "import numpy as np\n",
        "a=np.random.randint(25,34,size=28)\n",
        "print(a)\n",
        "a.reshape(4,7).mean(axis=1)"
      ],
      "metadata": {
        "id": "s0tPj187aj2u",
        "colab": {
          "base_uri": "https://localhost:8080/"
        },
        "outputId": "3e7413f5-eae7-4db3-be0f-dbbb27178163"
      },
      "execution_count": null,
      "outputs": [
        {
          "output_type": "stream",
          "name": "stdout",
          "text": [
            "[32 28 29 33 25 29 26 28 25 28 28 26 26 32 27 27 33 26 32 25 25 32 33 28\n",
            " 28 30 31 27]\n"
          ]
        },
        {
          "output_type": "execute_result",
          "data": {
            "text/plain": [
              "array([28.85714286, 27.57142857, 27.85714286, 29.85714286])"
            ]
          },
          "metadata": {},
          "execution_count": 72
        }
      ]
    }
  ]
}