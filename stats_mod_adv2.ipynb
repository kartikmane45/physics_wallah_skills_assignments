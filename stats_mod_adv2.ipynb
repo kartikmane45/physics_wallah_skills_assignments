{
  "nbformat": 4,
  "nbformat_minor": 0,
  "metadata": {
    "colab": {
      "provenance": [],
      "authorship_tag": "ABX9TyP4hwFhWKjmx2p2bx/6n8is",
      "include_colab_link": true
    },
    "kernelspec": {
      "name": "python3",
      "display_name": "Python 3"
    },
    "language_info": {
      "name": "python"
    }
  },
  "cells": [
    {
      "cell_type": "markdown",
      "metadata": {
        "id": "view-in-github",
        "colab_type": "text"
      },
      "source": [
        "<a href=\"https://colab.research.google.com/github/kartikmane45/physics_wallah_skills_assignments/blob/main/stats_mod_adv2.ipynb\" target=\"_parent\"><img src=\"https://colab.research.google.com/assets/colab-badge.svg\" alt=\"Open In Colab\"/></a>"
      ]
    },
    {
      "cell_type": "markdown",
      "source": [
        "1. **What is hypothesis testing in statistics?**  \n",
        "   Hypothesis testing is a statistical method used to make decisions or inferences about a population based on sample data. It involves testing an assumption (hypothesis) and determining whether there is enough evidence to reject it.\n",
        "\n",
        "2. **What is the null hypothesis, and how does it differ from the alternative hypothesis?**  \n",
        "   The **null hypothesis (H₀)** states that there is no effect or no significant difference, while the **alternative hypothesis (H₁ or Ha)** suggests that there is a significant effect or difference. The null hypothesis is tested to determine if it should be rejected in favor of the alternative hypothesis.\n",
        "\n",
        "3. **What is the significance level in hypothesis testing, and why is it important?**  \n",
        "   The **significance level (α)** is the probability of rejecting the null hypothesis when it is true. Common values are 0.05 or 0.01. It is important because it sets the threshold for determining statistical significance.\n",
        "\n",
        "4. **What does a P-value represent in hypothesis testing?**  \n",
        "   The **P-value** is the probability of obtaining results as extreme as the observed data, assuming the null hypothesis is true. It helps in deciding whether to reject the null hypothesis.\n",
        "\n",
        "5. **How do you interpret the P-value in hypothesis testing?**  \n",
        "   - If **P-value ≤ α** (e.g., 0.05), reject the null hypothesis (evidence is statistically significant).  \n",
        "   - If **P-value > α**, fail to reject the null hypothesis (not enough evidence to conclude a significant effect).\n",
        "\n",
        "6. **What are Type 1 and Type 2 errors in hypothesis testing?**  \n",
        "   - **Type 1 error (α)**: Rejecting a true null hypothesis (false positive).  \n",
        "   - **Type 2 error (β)**: Failing to reject a false null hypothesis (false negative).\n",
        "\n",
        "7. **What is the difference between a one-tailed and a two-tailed test in hypothesis testing?**  \n",
        "   - **One-tailed test**: Tests for an effect in only one direction (greater or less).  \n",
        "   - **Two-tailed test**: Tests for an effect in both directions (difference exists, but direction is unspecified).\n",
        "\n",
        "8. **What is the Z-test, and when is it used in hypothesis testing?**  \n",
        "   A **Z-test** is used when the sample size is large (**n ≥ 30**) and the population variance is known. It tests whether the sample mean significantly differs from the population mean.\n",
        "\n",
        "9. **How do you calculate the Z-score, and what does it represent in hypothesis testing?**  \n",
        "   **Z-score = (X̄ - μ) / (σ / √n)**  \n",
        "   It represents how many standard deviations the sample mean (X̄) is from the population mean (μ).\n",
        "\n",
        "10. **What is the T-distribution, and when should it be used instead of the normal distribution?**  \n",
        "    The **T-distribution** is used when the sample size is small (**n < 30**) and the population standard deviation is unknown. It accounts for increased variability in smaller samples.\n",
        "\n",
        "11. **What is the difference between a Z-test and a T-test?**  \n",
        "    - **Z-test**: Used for large samples (**n ≥ 30**) with known population variance.  \n",
        "    - **T-test**: Used for small samples (**n < 30**) with unknown population variance.\n",
        "\n",
        "12. **What is the T-test, and how is it used in hypothesis testing?**  \n",
        "    A **T-test** is used to compare means and determine if they are significantly different. Types include one-sample, independent two-sample, and paired t-tests.\n",
        "\n",
        "13. **What is the relationship between Z-test and T-test in hypothesis testing?**  \n",
        "    Both test for significant differences, but the **T-test** is used for small samples with unknown variance, while the **Z-test** is used for large samples with known variance.\n",
        "\n",
        "14. **What is a confidence interval, and how is it used to interpret statistical results?**  \n",
        "    A **confidence interval (CI)** is a range of values within which the true population parameter is expected to fall with a given probability (e.g., 95% CI means 95% certainty).\n",
        "\n",
        "15. **What is the margin of error, and how does it affect the confidence interval?**  \n",
        "    The **margin of error** measures the uncertainty in an estimate. A larger margin of error means a wider confidence interval, indicating less precision.\n",
        "\n",
        "16. **How is Bayes' Theorem used in statistics, and what is its significance?**  \n",
        "    **Bayes' Theorem** describes how to update probabilities based on new evidence. It is crucial in probabilistic reasoning and machine learning.\n",
        "\n",
        "17. **What is the Chi-square distribution, and when is it used?**  \n",
        "    The **Chi-square distribution** is used for categorical data analysis, particularly in **goodness-of-fit tests** and **tests of independence**.\n",
        "\n",
        "18. **What is the Chi-square goodness-of-fit test, and how is it applied?**  \n",
        "    This test checks if observed frequencies match expected frequencies in categorical data, determining if a sample comes from a specific distribution.\n",
        "\n",
        "19. **What is the F-distribution, and when is it used in hypothesis testing?**  \n",
        "    The **F-distribution** is used in variance analysis, such as in **ANOVA** and **F-tests**, to compare variances of two or more groups.\n",
        "\n",
        "20. **What is an ANOVA test, and what are its assumptions?**  \n",
        "    **ANOVA (Analysis of Variance)** tests whether the means of three or more groups are significantly different. Assumptions:  \n",
        "    - Normality of data  \n",
        "    - Homogeneity of variances  \n",
        "    - Independent observations  \n",
        "\n",
        "21. **What are the different types of ANOVA tests?**  \n",
        "    - **One-way ANOVA**: Compares means of one factor.  \n",
        "    - **Two-way ANOVA**: Examines the effect of two factors.  \n",
        "    - **Repeated measures ANOVA**: Used when the same subjects are tested multiple times.\n",
        "\n",
        "22. **What is the F-test, and how does it relate to hypothesis testing?**  \n",
        "    An **F-test** compares variances between groups to determine if they are significantly different, often used in ANOVA and regression analysis."
      ],
      "metadata": {
        "id": "q5HIUyL9768E"
      }
    }
  ]
}